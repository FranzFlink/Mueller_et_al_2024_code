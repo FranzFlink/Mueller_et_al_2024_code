{
 "cells": [
  {
   "cell_type": "code",
   "execution_count": 1,
   "metadata": {},
   "outputs": [
    {
     "name": "stderr",
     "output_type": "stream",
     "text": [
      "ERROR 1: PROJ: proj_create_from_database: Open of /home/jomueller/micromamba/envs/mamba_josh/share/proj failed\n"
     ]
    }
   ],
   "source": [
    "import os\n",
    "import xarray as xr\n",
    "import matplotlib.pyplot as plt\n",
    "import numpy as np\n",
    "from haversine import haversine, Unit\n",
    "from sklearn.metrics.pairwise import haversine_distances\n",
    "from tqdm import tqdm\n",
    "from matplotlib.colors import ListedColormap, BoundaryNorm, LogNorm\n",
    "import pandas as pd\n",
    "from xhistogram.xarray import histogram\n",
    "from sklearn.neighbors import KNeighborsRegressor, BallTree\n",
    "from scipy import stats\n",
    "from mpl_toolkits.axes_grid1 import make_axes_locatable\n",
    "import cmocean\n",
    "\n",
    "def haversine_sklearn(lat1, lon1, lat_array, lon_array):\n",
    "\n",
    "\n",
    "    X = np.array([lat1, lon1]).reshape(1, -1)\n",
    "    Y = np.array([lat_array, lon_array]).T\n",
    "    X = np.radians(X)\n",
    "    Y = np.radians(Y)\n",
    "\n",
    "    return haversine_distances(X, Y) * 6357\n",
    "from matplotlib.colors import BoundaryNorm\n",
    "\n",
    "colors = np.array([[0.10588235, 0.61960784, 0.46666667, 1.],\n",
    "                [0.45882353, 0.43921569, 0.70196078, 1.],\n",
    "                [0.4       , 0.4       , 0.4       , 1.],\n",
    "                [0.90196078, 0.67058824, 0.00784314, 1.],\n",
    "])\n",
    "\n",
    "cmap = ListedColormap(colors)\n",
    "#cmap = plt.get_cmap('Dark2')\n",
    "bounds = [1, 2, 3, 4, 5]\n",
    "norm = BoundaryNorm(bounds, cmap.N)\n",
    "# Create a figure and axis with the specified size\n",
    "\n",
    "SIC = xr.open_dataset('/projekt_agmwend/home_rad/Joshua/HALO-AC3_unified_data/amsr_modis_sic.nc').sortby('time')\n",
    "\n",
    "\n",
    "fontsize = 8\n",
    "\n",
    "plt.rcParams['font.size'] = fontsize\n",
    "plt.rcParams['axes.labelsize']  = fontsize\n",
    "plt.rcParams['axes.titlesize']  = fontsize\n",
    "plt.rcParams['xtick.labelsize'] = fontsize\n",
    "plt.rcParams['ytick.labelsize'] = fontsize\n",
    "plt.rcParams['legend.fontsize'] = fontsize\n",
    "plt.rcParams['legend.title_fontsize'] = fontsize\n",
    "plt.rcParams['figure.titlesize'] = fontsize\n",
    "plt.rcParams['figure.dpi'] = 300\n",
    "plt.rcParams['axes.axisbelow'] = True\n",
    "sc_cmap = 'Dark2'\n",
    "\n",
    "\n",
    "cmap = ListedColormap(colors)\n"
   ]
  },
  {
   "cell_type": "code",
   "execution_count": 2,
   "metadata": {},
   "outputs": [
    {
     "data": {
      "text/html": [
       "<div>\n",
       "<style scoped>\n",
       "    .dataframe tbody tr th:only-of-type {\n",
       "        vertical-align: middle;\n",
       "    }\n",
       "\n",
       "    .dataframe tbody tr th {\n",
       "        vertical-align: top;\n",
       "    }\n",
       "\n",
       "    .dataframe thead th {\n",
       "        text-align: right;\n",
       "    }\n",
       "</style>\n",
       "<table border=\"1\" class=\"dataframe\">\n",
       "  <thead>\n",
       "    <tr style=\"text-align: right;\">\n",
       "      <th></th>\n",
       "      <th>outfile</th>\n",
       "      <th>segfile</th>\n",
       "      <th>key</th>\n",
       "    </tr>\n",
       "  </thead>\n",
       "  <tbody>\n",
       "    <tr>\n",
       "      <th>0</th>\n",
       "      <td>/projekt_agmwend/home_rad/Joshua/Mueller_et_al...</td>\n",
       "      <td>/projekt_agmwend/home_rad/Joshua/Mueller_et_al...</td>\n",
       "      <td>2022-03-21T11:39:00_2022-03-21T11:44:00</td>\n",
       "    </tr>\n",
       "    <tr>\n",
       "      <th>1</th>\n",
       "      <td>/projekt_agmwend/home_rad/Joshua/Mueller_et_al...</td>\n",
       "      <td>/projekt_agmwend/home_rad/Joshua/Mueller_et_al...</td>\n",
       "      <td>2022-03-28T10:28:00_2022-03-28T11:05:00</td>\n",
       "    </tr>\n",
       "    <tr>\n",
       "      <th>2</th>\n",
       "      <td>/projekt_agmwend/home_rad/Joshua/Mueller_et_al...</td>\n",
       "      <td>/projekt_agmwend/home_rad/Joshua/Mueller_et_al...</td>\n",
       "      <td>2022-03-28T13:13:30_2022-03-28T13:21:30</td>\n",
       "    </tr>\n",
       "    <tr>\n",
       "      <th>3</th>\n",
       "      <td>/projekt_agmwend/home_rad/Joshua/Mueller_et_al...</td>\n",
       "      <td>/projekt_agmwend/home_rad/Joshua/Mueller_et_al...</td>\n",
       "      <td>2022-03-28T14:12:30_2022-03-28T14:27:00</td>\n",
       "    </tr>\n",
       "    <tr>\n",
       "      <th>4</th>\n",
       "      <td>/projekt_agmwend/home_rad/Joshua/Mueller_et_al...</td>\n",
       "      <td>/projekt_agmwend/home_rad/Joshua/Mueller_et_al...</td>\n",
       "      <td>2022-03-29T14:27:00_2022-03-29T14:37:30</td>\n",
       "    </tr>\n",
       "    <tr>\n",
       "      <th>5</th>\n",
       "      <td>/projekt_agmwend/home_rad/Joshua/Mueller_et_al...</td>\n",
       "      <td>/projekt_agmwend/home_rad/Joshua/Mueller_et_al...</td>\n",
       "      <td>2022-03-30T09:46:30_2022-03-30T09:52:00</td>\n",
       "    </tr>\n",
       "    <tr>\n",
       "      <th>6</th>\n",
       "      <td>/projekt_agmwend/home_rad/Joshua/Mueller_et_al...</td>\n",
       "      <td>/projekt_agmwend/home_rad/Joshua/Mueller_et_al...</td>\n",
       "      <td>2022-04-01T09:25:00_2022-04-01T09:32:30</td>\n",
       "    </tr>\n",
       "    <tr>\n",
       "      <th>7</th>\n",
       "      <td>/projekt_agmwend/home_rad/Joshua/Mueller_et_al...</td>\n",
       "      <td>/projekt_agmwend/home_rad/Joshua/Mueller_et_al...</td>\n",
       "      <td>2022-04-01T11:22:30_2022-04-01T11:43:30</td>\n",
       "    </tr>\n",
       "    <tr>\n",
       "      <th>8</th>\n",
       "      <td>/projekt_agmwend/home_rad/Joshua/Mueller_et_al...</td>\n",
       "      <td>/projekt_agmwend/home_rad/Joshua/Mueller_et_al...</td>\n",
       "      <td>2022-04-01T12:20:00_2022-04-01T12:51:00</td>\n",
       "    </tr>\n",
       "    <tr>\n",
       "      <th>9</th>\n",
       "      <td>/projekt_agmwend/home_rad/Joshua/Mueller_et_al...</td>\n",
       "      <td>/projekt_agmwend/home_rad/Joshua/Mueller_et_al...</td>\n",
       "      <td>2022-04-01T13:36:00_2022-04-01T13:52:30</td>\n",
       "    </tr>\n",
       "    <tr>\n",
       "      <th>10</th>\n",
       "      <td>/projekt_agmwend/home_rad/Joshua/Mueller_et_al...</td>\n",
       "      <td>/projekt_agmwend/home_rad/Joshua/Mueller_et_al...</td>\n",
       "      <td>2022-04-04T09:18:30_2022-04-04T09:23:30</td>\n",
       "    </tr>\n",
       "    <tr>\n",
       "      <th>11</th>\n",
       "      <td>/projekt_agmwend/home_rad/Joshua/Mueller_et_al...</td>\n",
       "      <td>/projekt_agmwend/home_rad/Joshua/Mueller_et_al...</td>\n",
       "      <td>2022-04-04T12:24:00_2022-04-04T13:01:00</td>\n",
       "    </tr>\n",
       "    <tr>\n",
       "      <th>12</th>\n",
       "      <td>/projekt_agmwend/home_rad/Joshua/Mueller_et_al...</td>\n",
       "      <td>/projekt_agmwend/home_rad/Joshua/Mueller_et_al...</td>\n",
       "      <td>2022-04-04T13:19:30_2022-04-04T13:40:00</td>\n",
       "    </tr>\n",
       "    <tr>\n",
       "      <th>13</th>\n",
       "      <td>/projekt_agmwend/home_rad/Joshua/Mueller_et_al...</td>\n",
       "      <td>/projekt_agmwend/home_rad/Joshua/Mueller_et_al...</td>\n",
       "      <td>2022-04-04T14:08:00_2022-04-04T14:30:00</td>\n",
       "    </tr>\n",
       "  </tbody>\n",
       "</table>\n",
       "</div>"
      ],
      "text/plain": [
       "                                              outfile  \\\n",
       "0   /projekt_agmwend/home_rad/Joshua/Mueller_et_al...   \n",
       "1   /projekt_agmwend/home_rad/Joshua/Mueller_et_al...   \n",
       "2   /projekt_agmwend/home_rad/Joshua/Mueller_et_al...   \n",
       "3   /projekt_agmwend/home_rad/Joshua/Mueller_et_al...   \n",
       "4   /projekt_agmwend/home_rad/Joshua/Mueller_et_al...   \n",
       "5   /projekt_agmwend/home_rad/Joshua/Mueller_et_al...   \n",
       "6   /projekt_agmwend/home_rad/Joshua/Mueller_et_al...   \n",
       "7   /projekt_agmwend/home_rad/Joshua/Mueller_et_al...   \n",
       "8   /projekt_agmwend/home_rad/Joshua/Mueller_et_al...   \n",
       "9   /projekt_agmwend/home_rad/Joshua/Mueller_et_al...   \n",
       "10  /projekt_agmwend/home_rad/Joshua/Mueller_et_al...   \n",
       "11  /projekt_agmwend/home_rad/Joshua/Mueller_et_al...   \n",
       "12  /projekt_agmwend/home_rad/Joshua/Mueller_et_al...   \n",
       "13  /projekt_agmwend/home_rad/Joshua/Mueller_et_al...   \n",
       "\n",
       "                                              segfile  \\\n",
       "0   /projekt_agmwend/home_rad/Joshua/Mueller_et_al...   \n",
       "1   /projekt_agmwend/home_rad/Joshua/Mueller_et_al...   \n",
       "2   /projekt_agmwend/home_rad/Joshua/Mueller_et_al...   \n",
       "3   /projekt_agmwend/home_rad/Joshua/Mueller_et_al...   \n",
       "4   /projekt_agmwend/home_rad/Joshua/Mueller_et_al...   \n",
       "5   /projekt_agmwend/home_rad/Joshua/Mueller_et_al...   \n",
       "6   /projekt_agmwend/home_rad/Joshua/Mueller_et_al...   \n",
       "7   /projekt_agmwend/home_rad/Joshua/Mueller_et_al...   \n",
       "8   /projekt_agmwend/home_rad/Joshua/Mueller_et_al...   \n",
       "9   /projekt_agmwend/home_rad/Joshua/Mueller_et_al...   \n",
       "10  /projekt_agmwend/home_rad/Joshua/Mueller_et_al...   \n",
       "11  /projekt_agmwend/home_rad/Joshua/Mueller_et_al...   \n",
       "12  /projekt_agmwend/home_rad/Joshua/Mueller_et_al...   \n",
       "13  /projekt_agmwend/home_rad/Joshua/Mueller_et_al...   \n",
       "\n",
       "                                        key  \n",
       "0   2022-03-21T11:39:00_2022-03-21T11:44:00  \n",
       "1   2022-03-28T10:28:00_2022-03-28T11:05:00  \n",
       "2   2022-03-28T13:13:30_2022-03-28T13:21:30  \n",
       "3   2022-03-28T14:12:30_2022-03-28T14:27:00  \n",
       "4   2022-03-29T14:27:00_2022-03-29T14:37:30  \n",
       "5   2022-03-30T09:46:30_2022-03-30T09:52:00  \n",
       "6   2022-04-01T09:25:00_2022-04-01T09:32:30  \n",
       "7   2022-04-01T11:22:30_2022-04-01T11:43:30  \n",
       "8   2022-04-01T12:20:00_2022-04-01T12:51:00  \n",
       "9   2022-04-01T13:36:00_2022-04-01T13:52:30  \n",
       "10  2022-04-04T09:18:30_2022-04-04T09:23:30  \n",
       "11  2022-04-04T12:24:00_2022-04-04T13:01:00  \n",
       "12  2022-04-04T13:19:30_2022-04-04T13:40:00  \n",
       "13  2022-04-04T14:08:00_2022-04-04T14:30:00  "
      ]
     },
     "execution_count": 2,
     "metadata": {},
     "output_type": "execute_result"
    }
   ],
   "source": [
    "outfiles_keys = [f.split('_full')[0] for f in os.listdir(f'/projekt_agmwend/home_rad/Joshua/Mueller_et_al_2024/data/full_datasets/') if 'full' in f and 'T' in f]\n",
    "\n",
    "outfiles_keys.sort()\n",
    "\n",
    "outfiles = os.listdir('/projekt_agmwend/home_rad/Joshua/Mueller_et_al_2024/data/full_datasets/')\n",
    "outfiles = [f'/projekt_agmwend/home_rad/Joshua/Mueller_et_al_2024/data/full_datasets/{f}' for f in outfiles if 'full' in f and 'T' in f]\n",
    "outfiles.sort() \n",
    "\n",
    "segmentation_path = '/projekt_agmwend/home_rad/Joshua/Mueller_et_al_2024/data/segmented_data_nadir/'\n",
    "segmentation_files = [os.path.join(segmentation_path, f) for f in os.listdir(segmentation_path)]\n",
    "segmentation_files.sort()\n",
    "\n",
    "### compare the length\n",
    "len_outfiles = len(outfiles)\n",
    "len_segmentation_files = len(segmentation_files)\n",
    "\n",
    "if len_outfiles != len_segmentation_files:\n",
    "    print('The length of the outfiles and the segmentation files does not match')\n",
    "    print(f'len_outfiles: {len_outfiles}')\n",
    "    print(f'len_segmentation_files: {len_segmentation_files}')\n",
    "\n",
    "\n",
    "df_files = pd.DataFrame(columns=['outfile', 'segfile', 'key'])\n",
    "outfiles_df = []\n",
    "segfiles_df = []\n",
    "keys_df = []\n",
    "\n",
    "for i in range(min([len_outfiles, len_segmentation_files])):\n",
    "    key = outfiles_keys[i]\n",
    "    outfile = outfiles[i]\n",
    "    segfile = [f for f in segmentation_files if key in f][0]\n",
    "    # print(f'Working on {key}')\n",
    "    # print(f'Outfile: {outfile}')\n",
    "    # print(f'Segfile: {segfile}')\n",
    "\n",
    "    outfiles_df.append(outfile)\n",
    "    segfiles_df.append(segfile)\n",
    "    keys_df.append(key)\n",
    "\n",
    "df_files['outfile'] = outfiles_df\n",
    "df_files['segfile'] = segfiles_df\n",
    "df_files['key'] = keys_df\n",
    "\n",
    "df_files"
   ]
  },
  {
   "cell_type": "code",
   "execution_count": 3,
   "metadata": {},
   "outputs": [],
   "source": [
    "df_files.to_csv('../../../data/final_filelist_to_submission.csv', index=False)"
   ]
  },
  {
   "cell_type": "code",
   "execution_count": 4,
   "metadata": {},
   "outputs": [
    {
     "name": "stdout",
     "output_type": "stream",
     "text": [
      "The length of the outfiles and the segmentation files does not match\n",
      "len_outfiles: 16\n",
      "len_segmentation_files: 17\n"
     ]
    },
    {
     "data": {
      "text/html": [
       "<div>\n",
       "<style scoped>\n",
       "    .dataframe tbody tr th:only-of-type {\n",
       "        vertical-align: middle;\n",
       "    }\n",
       "\n",
       "    .dataframe tbody tr th {\n",
       "        vertical-align: top;\n",
       "    }\n",
       "\n",
       "    .dataframe thead th {\n",
       "        text-align: right;\n",
       "    }\n",
       "</style>\n",
       "<table border=\"1\" class=\"dataframe\">\n",
       "  <thead>\n",
       "    <tr style=\"text-align: right;\">\n",
       "      <th></th>\n",
       "      <th>outfile</th>\n",
       "      <th>segfile</th>\n",
       "      <th>key</th>\n",
       "    </tr>\n",
       "  </thead>\n",
       "  <tbody>\n",
       "    <tr>\n",
       "      <th>0</th>\n",
       "      <td>../../../data/cluster/output_sam/2022-03-20T10...</td>\n",
       "      <td>/projekt_agmwend/home_rad/Joshua/Mueller_et_al...</td>\n",
       "      <td>2022-03-20T10:35:00_2022-03-20T10:50:00</td>\n",
       "    </tr>\n",
       "    <tr>\n",
       "      <th>1</th>\n",
       "      <td>../../../data/cluster/output_sam/2022-03-21T11...</td>\n",
       "      <td>/projekt_agmwend/home_rad/Joshua/Mueller_et_al...</td>\n",
       "      <td>2022-03-21T11:39:00_2022-03-21T11:44:00</td>\n",
       "    </tr>\n",
       "    <tr>\n",
       "      <th>2</th>\n",
       "      <td>../../../data/cluster/output_sam/2022-03-28T10...</td>\n",
       "      <td>/projekt_agmwend/home_rad/Joshua/Mueller_et_al...</td>\n",
       "      <td>2022-03-28T10:28:00_2022-03-28T11:05:00</td>\n",
       "    </tr>\n",
       "    <tr>\n",
       "      <th>3</th>\n",
       "      <td>../../../data/cluster/output_sam/2022-03-28T13...</td>\n",
       "      <td>/projekt_agmwend/home_rad/Joshua/Mueller_et_al...</td>\n",
       "      <td>2022-03-28T13:13:30_2022-03-28T13:21:30</td>\n",
       "    </tr>\n",
       "    <tr>\n",
       "      <th>4</th>\n",
       "      <td>../../../data/cluster/output_sam/2022-03-28T14...</td>\n",
       "      <td>/projekt_agmwend/home_rad/Joshua/Mueller_et_al...</td>\n",
       "      <td>2022-03-28T14:12:30_2022-03-28T14:27:00</td>\n",
       "    </tr>\n",
       "    <tr>\n",
       "      <th>5</th>\n",
       "      <td>../../../data/cluster/output_sam/2022-03-29T14...</td>\n",
       "      <td>/projekt_agmwend/home_rad/Joshua/Mueller_et_al...</td>\n",
       "      <td>2022-03-29T14:27:00_2022-03-29T14:37:30</td>\n",
       "    </tr>\n",
       "    <tr>\n",
       "      <th>6</th>\n",
       "      <td>../../../data/cluster/output_sam/2022-03-30T09...</td>\n",
       "      <td>/projekt_agmwend/home_rad/Joshua/Mueller_et_al...</td>\n",
       "      <td>2022-03-30T09:46:30_2022-03-30T09:52:00</td>\n",
       "    </tr>\n",
       "    <tr>\n",
       "      <th>7</th>\n",
       "      <td>../../../data/cluster/output_sam/2022-04-01T09...</td>\n",
       "      <td>/projekt_agmwend/home_rad/Joshua/Mueller_et_al...</td>\n",
       "      <td>2022-04-01T09:25:00_2022-04-01T09:32:30</td>\n",
       "    </tr>\n",
       "    <tr>\n",
       "      <th>8</th>\n",
       "      <td>../../../data/cluster/output_sam/2022-04-01T10...</td>\n",
       "      <td>/projekt_agmwend/home_rad/Joshua/Mueller_et_al...</td>\n",
       "      <td>2022-04-01T10:21:00_2022-04-01T10:54:00</td>\n",
       "    </tr>\n",
       "    <tr>\n",
       "      <th>9</th>\n",
       "      <td>../../../data/cluster/output_sam/2022-04-01T11...</td>\n",
       "      <td>/projekt_agmwend/home_rad/Joshua/Mueller_et_al...</td>\n",
       "      <td>2022-04-01T11:22:30_2022-04-01T11:43:30</td>\n",
       "    </tr>\n",
       "    <tr>\n",
       "      <th>10</th>\n",
       "      <td>../../../data/cluster/output_sam/2022-04-01T12...</td>\n",
       "      <td>/projekt_agmwend/home_rad/Joshua/Mueller_et_al...</td>\n",
       "      <td>2022-04-01T12:20:00_2022-04-01T12:51:00</td>\n",
       "    </tr>\n",
       "    <tr>\n",
       "      <th>11</th>\n",
       "      <td>../../../data/cluster/output_sam/2022-04-01T13...</td>\n",
       "      <td>/projekt_agmwend/home_rad/Joshua/Mueller_et_al...</td>\n",
       "      <td>2022-04-01T13:36:00_2022-04-01T13:52:30</td>\n",
       "    </tr>\n",
       "    <tr>\n",
       "      <th>12</th>\n",
       "      <td>../../../data/cluster/output_sam/2022-04-04T09...</td>\n",
       "      <td>/projekt_agmwend/home_rad/Joshua/Mueller_et_al...</td>\n",
       "      <td>2022-04-04T09:18:30_2022-04-04T09:23:30</td>\n",
       "    </tr>\n",
       "    <tr>\n",
       "      <th>13</th>\n",
       "      <td>../../../data/cluster/output_sam/2022-04-04T12...</td>\n",
       "      <td>/projekt_agmwend/home_rad/Joshua/Mueller_et_al...</td>\n",
       "      <td>2022-04-04T12:24:00_2022-04-04T13:01:00</td>\n",
       "    </tr>\n",
       "    <tr>\n",
       "      <th>14</th>\n",
       "      <td>../../../data/cluster/output_sam/2022-04-04T13...</td>\n",
       "      <td>/projekt_agmwend/home_rad/Joshua/Mueller_et_al...</td>\n",
       "      <td>2022-04-04T13:19:30_2022-04-04T13:40:00</td>\n",
       "    </tr>\n",
       "    <tr>\n",
       "      <th>15</th>\n",
       "      <td>../../../data/cluster/output_sam/2022-04-04T14...</td>\n",
       "      <td>/projekt_agmwend/home_rad/Joshua/Mueller_et_al...</td>\n",
       "      <td>2022-04-04T14:08:00_2022-04-04T14:30:00</td>\n",
       "    </tr>\n",
       "  </tbody>\n",
       "</table>\n",
       "</div>"
      ],
      "text/plain": [
       "                                              outfile  \\\n",
       "0   ../../../data/cluster/output_sam/2022-03-20T10...   \n",
       "1   ../../../data/cluster/output_sam/2022-03-21T11...   \n",
       "2   ../../../data/cluster/output_sam/2022-03-28T10...   \n",
       "3   ../../../data/cluster/output_sam/2022-03-28T13...   \n",
       "4   ../../../data/cluster/output_sam/2022-03-28T14...   \n",
       "5   ../../../data/cluster/output_sam/2022-03-29T14...   \n",
       "6   ../../../data/cluster/output_sam/2022-03-30T09...   \n",
       "7   ../../../data/cluster/output_sam/2022-04-01T09...   \n",
       "8   ../../../data/cluster/output_sam/2022-04-01T10...   \n",
       "9   ../../../data/cluster/output_sam/2022-04-01T11...   \n",
       "10  ../../../data/cluster/output_sam/2022-04-01T12...   \n",
       "11  ../../../data/cluster/output_sam/2022-04-01T13...   \n",
       "12  ../../../data/cluster/output_sam/2022-04-04T09...   \n",
       "13  ../../../data/cluster/output_sam/2022-04-04T12...   \n",
       "14  ../../../data/cluster/output_sam/2022-04-04T13...   \n",
       "15  ../../../data/cluster/output_sam/2022-04-04T14...   \n",
       "\n",
       "                                              segfile  \\\n",
       "0   /projekt_agmwend/home_rad/Joshua/Mueller_et_al...   \n",
       "1   /projekt_agmwend/home_rad/Joshua/Mueller_et_al...   \n",
       "2   /projekt_agmwend/home_rad/Joshua/Mueller_et_al...   \n",
       "3   /projekt_agmwend/home_rad/Joshua/Mueller_et_al...   \n",
       "4   /projekt_agmwend/home_rad/Joshua/Mueller_et_al...   \n",
       "5   /projekt_agmwend/home_rad/Joshua/Mueller_et_al...   \n",
       "6   /projekt_agmwend/home_rad/Joshua/Mueller_et_al...   \n",
       "7   /projekt_agmwend/home_rad/Joshua/Mueller_et_al...   \n",
       "8   /projekt_agmwend/home_rad/Joshua/Mueller_et_al...   \n",
       "9   /projekt_agmwend/home_rad/Joshua/Mueller_et_al...   \n",
       "10  /projekt_agmwend/home_rad/Joshua/Mueller_et_al...   \n",
       "11  /projekt_agmwend/home_rad/Joshua/Mueller_et_al...   \n",
       "12  /projekt_agmwend/home_rad/Joshua/Mueller_et_al...   \n",
       "13  /projekt_agmwend/home_rad/Joshua/Mueller_et_al...   \n",
       "14  /projekt_agmwend/home_rad/Joshua/Mueller_et_al...   \n",
       "15  /projekt_agmwend/home_rad/Joshua/Mueller_et_al...   \n",
       "\n",
       "                                        key  \n",
       "0   2022-03-20T10:35:00_2022-03-20T10:50:00  \n",
       "1   2022-03-21T11:39:00_2022-03-21T11:44:00  \n",
       "2   2022-03-28T10:28:00_2022-03-28T11:05:00  \n",
       "3   2022-03-28T13:13:30_2022-03-28T13:21:30  \n",
       "4   2022-03-28T14:12:30_2022-03-28T14:27:00  \n",
       "5   2022-03-29T14:27:00_2022-03-29T14:37:30  \n",
       "6   2022-03-30T09:46:30_2022-03-30T09:52:00  \n",
       "7   2022-04-01T09:25:00_2022-04-01T09:32:30  \n",
       "8   2022-04-01T10:21:00_2022-04-01T10:54:00  \n",
       "9   2022-04-01T11:22:30_2022-04-01T11:43:30  \n",
       "10  2022-04-01T12:20:00_2022-04-01T12:51:00  \n",
       "11  2022-04-01T13:36:00_2022-04-01T13:52:30  \n",
       "12  2022-04-04T09:18:30_2022-04-04T09:23:30  \n",
       "13  2022-04-04T12:24:00_2022-04-04T13:01:00  \n",
       "14  2022-04-04T13:19:30_2022-04-04T13:40:00  \n",
       "15  2022-04-04T14:08:00_2022-04-04T14:30:00  "
      ]
     },
     "execution_count": 4,
     "metadata": {},
     "output_type": "execute_result"
    }
   ],
   "source": [
    "outfiles_keys = [f.split('_full')[0] for f in os.listdir(f'../../../data/cluster/output_sam/') if 'full' in f and 'T' in f]\n",
    "\n",
    "outfiles_keys.sort()\n",
    "\n",
    "outfiles = os.listdir('../../../data/cluster/output_sam')\n",
    "outfiles = [f'../../../data/cluster/output_sam/{f}' for f in outfiles if 'full' in f and 'T' in f]\n",
    "outfiles.sort() \n",
    "\n",
    "segmentation_path = '/projekt_agmwend/home_rad/Joshua/Mueller_et_al_2024/data/segmented_data/'\n",
    "segmentation_files = [os.path.join(segmentation_path, f) for f in os.listdir(segmentation_path)]\n",
    "segmentation_files.sort()\n",
    "\n",
    "### compare the length\n",
    "len_outfiles = len(outfiles)\n",
    "len_segmentation_files = len(segmentation_files)\n",
    "\n",
    "if len_outfiles != len_segmentation_files:\n",
    "    print('The length of the outfiles and the segmentation files does not match')\n",
    "    print(f'len_outfiles: {len_outfiles}')\n",
    "    print(f'len_segmentation_files: {len_segmentation_files}')\n",
    "\n",
    "\n",
    "df_files = pd.DataFrame(columns=['outfile', 'segfile', 'key'])\n",
    "outfiles_df = []\n",
    "segfiles_df = []\n",
    "keys_df = []\n",
    "\n",
    "for i in range(min([len_outfiles, len_segmentation_files])):\n",
    "    key = outfiles_keys[i]\n",
    "    outfile = outfiles[i]\n",
    "    segfile = [f for f in segmentation_files if key in f][0]\n",
    "    # print(f'Working on {key}')\n",
    "    # print(f'Outfile: {outfile}')\n",
    "    # print(f'Segfile: {segfile}')\n",
    "\n",
    "    outfiles_df.append(outfile)\n",
    "    segfiles_df.append(segfile)\n",
    "    keys_df.append(key)\n",
    "\n",
    "df_files['outfile'] = outfiles_df\n",
    "df_files['segfile'] = segfiles_df\n",
    "df_files['key'] = keys_df\n",
    "\n",
    "df_files\n"
   ]
  },
  {
   "cell_type": "code",
   "execution_count": 5,
   "metadata": {},
   "outputs": [
    {
     "name": "stderr",
     "output_type": "stream",
     "text": [
      "  0%|          | 0/16 [00:00<?, ?it/s]"
     ]
    },
    {
     "name": "stderr",
     "output_type": "stream",
     "text": [
      " 12%|█▎        | 2/16 [00:02<00:21,  1.52s/it]"
     ]
    },
    {
     "name": "stdout",
     "output_type": "stream",
     "text": [
      "2022-03-28\n"
     ]
    },
    {
     "name": "stderr",
     "output_type": "stream",
     "text": [
      " 19%|█▉        | 3/16 [00:21<02:02,  9.41s/it]"
     ]
    },
    {
     "name": "stdout",
     "output_type": "stream",
     "text": [
      "2022-03-28\n"
     ]
    },
    {
     "name": "stderr",
     "output_type": "stream",
     "text": [
      " 25%|██▌       | 4/16 [00:22<01:14,  6.24s/it]"
     ]
    },
    {
     "name": "stdout",
     "output_type": "stream",
     "text": [
      "2022-03-28\n"
     ]
    },
    {
     "name": "stderr",
     "output_type": "stream",
     "text": [
      " 31%|███▏      | 5/16 [00:26<00:57,  5.19s/it]"
     ]
    },
    {
     "name": "stdout",
     "output_type": "stream",
     "text": [
      "2022-03-29\n"
     ]
    },
    {
     "name": "stderr",
     "output_type": "stream",
     "text": [
      " 38%|███▊      | 6/16 [00:27<00:39,  3.96s/it]"
     ]
    },
    {
     "name": "stdout",
     "output_type": "stream",
     "text": [
      "2022-03-30\n"
     ]
    },
    {
     "name": "stderr",
     "output_type": "stream",
     "text": [
      " 44%|████▍     | 7/16 [00:28<00:26,  2.93s/it]"
     ]
    },
    {
     "name": "stdout",
     "output_type": "stream",
     "text": [
      "2022-04-01\n"
     ]
    },
    {
     "name": "stderr",
     "output_type": "stream",
     "text": [
      " 50%|█████     | 8/16 [00:29<00:18,  2.37s/it]"
     ]
    },
    {
     "name": "stdout",
     "output_type": "stream",
     "text": [
      "2022-04-01\n"
     ]
    },
    {
     "name": "stderr",
     "output_type": "stream",
     "text": [
      " 56%|█████▋    | 9/16 [00:43<00:40,  5.85s/it]"
     ]
    },
    {
     "name": "stdout",
     "output_type": "stream",
     "text": [
      "2022-04-01\n"
     ]
    },
    {
     "name": "stderr",
     "output_type": "stream",
     "text": [
      " 62%|██████▎   | 10/16 [00:49<00:35,  5.93s/it]"
     ]
    },
    {
     "name": "stdout",
     "output_type": "stream",
     "text": [
      "2022-04-01\n"
     ]
    },
    {
     "name": "stderr",
     "output_type": "stream",
     "text": [
      " 69%|██████▉   | 11/16 [01:01<00:38,  7.76s/it]"
     ]
    },
    {
     "name": "stdout",
     "output_type": "stream",
     "text": [
      "2022-04-01\n"
     ]
    },
    {
     "name": "stderr",
     "output_type": "stream",
     "text": [
      " 75%|███████▌  | 12/16 [01:05<00:26,  6.53s/it]"
     ]
    },
    {
     "name": "stdout",
     "output_type": "stream",
     "text": [
      "2022-04-04\n"
     ]
    },
    {
     "name": "stderr",
     "output_type": "stream",
     "text": [
      " 81%|████████▏ | 13/16 [01:05<00:14,  4.76s/it]"
     ]
    },
    {
     "name": "stdout",
     "output_type": "stream",
     "text": [
      "2022-04-04\n"
     ]
    },
    {
     "name": "stderr",
     "output_type": "stream",
     "text": [
      " 88%|████████▊ | 14/16 [01:19<00:14,  7.36s/it]"
     ]
    },
    {
     "name": "stdout",
     "output_type": "stream",
     "text": [
      "2022-04-04\n"
     ]
    },
    {
     "name": "stderr",
     "output_type": "stream",
     "text": [
      " 94%|█████████▍| 15/16 [01:23<00:06,  6.60s/it]"
     ]
    },
    {
     "name": "stdout",
     "output_type": "stream",
     "text": [
      "2022-04-04\n"
     ]
    },
    {
     "name": "stderr",
     "output_type": "stream",
     "text": [
      "100%|██████████| 16/16 [01:29<00:00,  5.57s/it]\n"
     ]
    }
   ],
   "source": [
    "ds_list = []\n",
    "ds_full_list = []\n",
    "\n",
    "\n",
    "for index, row in tqdm(df_files.iterrows(), total=df_files.shape[0]):\n",
    "    full_file = row['outfile']\n",
    "    segment_file = row['segfile']\n",
    "\n",
    "    ds_full = xr.open_dataset(full_file)\n",
    "    ds_full['lat'] = ds_full['lat'].where(ds_full['lat'] != 0)\n",
    "    ds_full['lon'] = ds_full['lon'].where(ds_full['lon'] != 0)\n",
    "    ds_segment = xr.open_dataset(segment_file)\n",
    "    start_time = full_file.split('/')[-1].split('.nc')[0].split('_')[0]\n",
    "    end_time = full_file.split('/')[-1].split('.nc')[0].split('_')[1]\n",
    "    date_range = pd.date_range(start=start_time, end=end_time, periods=ds_full.x.size)\n",
    "    date = pd.to_datetime(start_time).strftime('%Y-%m-%d')\n",
    "    if date == '2022-03-20' or date == '2022-03-21':\n",
    "        continue\n",
    "    N = ds_segment['segment'].size\n",
    "    date_array = np.array([date for _ in range(N)])\n",
    "\n",
    "    ds_segment['segment_date'] = ('segment', date_array)\n",
    "    ds_full['time'] = ('x', date_range)\n",
    "\n",
    "    h = histogram(ds_full['smoothed_prediction'].isel(y=slice(635//2-150, 635//2+150)), bins=[[.5, 1.5, 2.5, 3.5, 4.5]], dim=['y'])\n",
    "\n",
    "    track_lat = ds_full['lat'].mean(dim='y')#isel(y=slice(635//2-150, 635//2+150))\n",
    "    track_lon = ds_full['lon'].mean(dim='y')#isel(y=slice(635//2-150, 635//2+150))\n",
    "\n",
    "    ### fill the nan values with the mean between the two nearest values\n",
    "\n",
    "    track_lat = track_lat.where(~track_lat.isnull(), other=0)\n",
    "    track_lon = track_lon.where(~track_lon.isnull(), other=0)\n",
    "\n",
    "    print(date)\n",
    "\n",
    "    modis_amsr_sic = SIC.sel(time=date)['z']\n",
    "\n",
    "    modis_amsr_sic_sel = modis_amsr_sic.sel(\n",
    "        x=track_lon.values,\n",
    "        y=track_lat.values,\n",
    "        method='nearest'\n",
    "    )\n",
    "\n",
    "    ds_sic = xr.Dataset(\n",
    "        data_vars=dict(\n",
    "            counts=(('time', 'class_bin'), h.values),\n",
    "            sic=(('time'), np.diag(modis_amsr_sic_sel.values)),\n",
    "            #distance=(('time'), dist),\n",
    "        ),\n",
    "        coords=dict(\n",
    "            time=ds_full['time'].values,\n",
    "            class_bin=[1, 2, 3, 4],\n",
    "        )\n",
    "    )\n",
    "\n",
    "    ds_full_list.append(ds_sic)\n",
    "    ds_list.append(ds_segment)\n",
    "    \n",
    "\n",
    "ds = xr.concat(ds_list, dim='segment')\n",
    "ds_sic = xr.concat(ds_full_list, dim='time')"
   ]
  },
  {
   "cell_type": "code",
   "execution_count": 11,
   "metadata": {},
   "outputs": [
    {
     "name": "stderr",
     "output_type": "stream",
     "text": [
      "100%|██████████| 37934/37934 [02:05<00:00, 302.67it/s]\n"
     ]
    }
   ],
   "source": [
    "ds['segment_edge_dist'] = xr.DataArray(np.zeros(ds.segment_lat.size) * np.nan, dims=('segment'))\n",
    "ds['segment_sic'] = xr.DataArray(np.zeros(ds.segment_lat.size) * np.nan, dims=('segment'))\n",
    "segment_edge_dist = np.zeros(ds.segment_lat.size)  ### in km\n",
    "selected_edge_points = np.zeros((ds.segment_lat.size, 2))\n",
    "\n",
    "ds_miz_edge_full = SIC.where((SIC['z'] > 9) & (SIC['z'] < 11)).stack(feature=('time','x', 'y')).dropna('feature')\n",
    "#ds_miz_edge = SIC.where((SIC['z'] > 9) & (SIC['z'] < 11)).mean(dim='time').stack(feature=('x', 'y')).dropna('feature')\n",
    "\n",
    "for i, seg in tqdm(enumerate(ds.segment), total=ds.segment.size):\n",
    "    # if ds.segment_size.isel(segment=i) < 100:\n",
    "    #     continue\n",
    "    lat = ds.segment_lat.isel(segment=i)\n",
    "    lon = ds.segment_lon.isel(segment=i)\n",
    "\n",
    "    date = ds.segment_date.isel(segment=i)#.dt.strftime('%Y-%m-%d')\n",
    "    ds_miz_edge = ds_miz_edge_full.sel(time=date)\n",
    "\n",
    "    miz_lats = ds_miz_edge.y.values\n",
    "    miz_lons = ds_miz_edge.x.values\n",
    "\n",
    "    if np.isnan(lat) or np.isnan(lon):\n",
    "        continue\n",
    "\n",
    "    haversine_dist = haversine_sklearn(lat, lon, miz_lats, miz_lons).flatten()\n",
    "    \n",
    "    min_dist_index = haversine_dist.argmin()\n",
    "\n",
    "    min_dist_lon = miz_lons[min_dist_index]\n",
    "    min_dist_lat = miz_lats[min_dist_index]\n",
    "\n",
    "    edge_dist = haversine_dist[min_dist_index]\n",
    "\n",
    "    ds['segment_edge_dist'][i] = edge_dist\n",
    "    ds['segment_sic'][i] = SIC.sel(x=lon, method='nearest').sel(y=lat, method='nearest').sel(time=date).z.values\n",
    "    segment_edge_dist[i] = edge_dist\n",
    "\n",
    "    selected_edge_points[i, 0] = min_dist_lon\n",
    "    selected_edge_points[i, 1] = min_dist_lat\n",
    "\n",
    "ds['segment_edge_dist'] = xr.DataArray(segment_edge_dist, dims=('segment')) \n",
    "ds.to_netcdf('../../../data/ar/HALO-AC3_HALO_VELOX_segmentation_statistics_with_sea_ice_edge_distance.nc', mode='w')"
   ]
  },
  {
   "cell_type": "code",
   "execution_count": 8,
   "metadata": {},
   "outputs": [],
   "source": [
    "ds_sic.to_netcdf('../../../data/ar/HALO-AC3_HALO_VELOX_sea_ice_concentration.nc')"
   ]
  },
  {
   "cell_type": "code",
   "execution_count": 10,
   "metadata": {},
   "outputs": [],
   "source": [
    "ds.to_netcdf('../../../data/ar/HALO-AC3_HALO_VELOX_segmentation_statistics.nc')"
   ]
  }
 ],
 "metadata": {
  "kernelspec": {
   "display_name": "mamba_josh",
   "language": "python",
   "name": "python3"
  },
  "language_info": {
   "codemirror_mode": {
    "name": "ipython",
    "version": 3
   },
   "file_extension": ".py",
   "mimetype": "text/x-python",
   "name": "python",
   "nbconvert_exporter": "python",
   "pygments_lexer": "ipython3",
   "version": "3.12.1"
  }
 },
 "nbformat": 4,
 "nbformat_minor": 2
}
