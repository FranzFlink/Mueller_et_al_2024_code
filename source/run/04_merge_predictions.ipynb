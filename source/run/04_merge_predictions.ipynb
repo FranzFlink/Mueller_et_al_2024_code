{
 "cells": [
  {
   "cell_type": "code",
   "execution_count": 4,
   "metadata": {},
   "outputs": [
    {
     "name": "stdout",
     "output_type": "stream",
     "text": [
      "Visit me @ http://127.0.0.1:34275/status\n"
     ]
    },
    {
     "name": "stderr",
     "output_type": "stream",
     "text": [
      "  6%|▌         | 1/18 [02:11<37:07, 131.00s/it]"
     ]
    },
    {
     "name": "stdout",
     "output_type": "stream",
     "text": [
      "Saved sequence 2022-03-20T10:35:00 to 2022-03-20T10:50:00\n"
     ]
    },
    {
     "name": "stderr",
     "output_type": "stream",
     "text": [
      " 11%|█         | 2/18 [02:54<21:14, 79.67s/it] "
     ]
    },
    {
     "name": "stdout",
     "output_type": "stream",
     "text": [
      "Saved sequence 2022-03-20T11:20:00 to 2022-03-20T11:26:00\n"
     ]
    },
    {
     "name": "stderr",
     "output_type": "stream",
     "text": [
      " 17%|█▋        | 3/18 [03:38<15:46, 63.10s/it]"
     ]
    },
    {
     "name": "stdout",
     "output_type": "stream",
     "text": [
      "Saved sequence 2022-03-21T11:39:00 to 2022-03-21T11:44:00\n"
     ]
    },
    {
     "name": "stderr",
     "output_type": "stream",
     "text": [
      " 22%|██▏       | 4/18 [08:54<38:01, 162.96s/it]"
     ]
    },
    {
     "name": "stdout",
     "output_type": "stream",
     "text": [
      "Saved sequence 2022-03-28T10:28:00 to 2022-03-28T11:05:00\n"
     ]
    },
    {
     "name": "stderr",
     "output_type": "stream",
     "text": [
      " 28%|██▊       | 5/18 [10:04<28:03, 129.50s/it]"
     ]
    },
    {
     "name": "stdout",
     "output_type": "stream",
     "text": [
      "Saved sequence 2022-03-28T13:13:30 to 2022-03-28T13:21:30\n"
     ]
    },
    {
     "name": "stderr",
     "output_type": "stream",
     "text": [
      " 33%|███▎      | 6/18 [12:08<25:34, 127.84s/it]"
     ]
    },
    {
     "name": "stdout",
     "output_type": "stream",
     "text": [
      "Saved sequence 2022-03-28T14:12:30 to 2022-03-28T14:27:00\n"
     ]
    },
    {
     "name": "stderr",
     "output_type": "stream",
     "text": [
      " 39%|███▉      | 7/18 [13:39<21:10, 115.49s/it]"
     ]
    },
    {
     "name": "stdout",
     "output_type": "stream",
     "text": [
      "Saved sequence 2022-03-29T14:27:00 to 2022-03-29T14:37:30\n"
     ]
    },
    {
     "name": "stderr",
     "output_type": "stream",
     "text": [
      " 44%|████▍     | 8/18 [14:29<15:49, 94.94s/it] "
     ]
    },
    {
     "name": "stdout",
     "output_type": "stream",
     "text": [
      "Saved sequence 2022-03-30T09:46:30 to 2022-03-30T09:52:00\n"
     ]
    },
    {
     "name": "stderr",
     "output_type": "stream",
     "text": [
      " 50%|█████     | 9/18 [15:37<12:56, 86.33s/it]"
     ]
    },
    {
     "name": "stdout",
     "output_type": "stream",
     "text": [
      "Saved sequence 2022-04-01T09:25:00 to 2022-04-01T09:32:30\n"
     ]
    },
    {
     "name": "stderr",
     "output_type": "stream",
     "text": [
      " 56%|█████▌    | 10/18 [20:26<19:52, 149.04s/it]"
     ]
    },
    {
     "name": "stdout",
     "output_type": "stream",
     "text": [
      "Saved sequence 2022-04-01T10:21:00 to 2022-04-01T10:54:00\n"
     ]
    },
    {
     "name": "stderr",
     "output_type": "stream",
     "text": [
      " 61%|██████    | 11/18 [23:23<18:22, 157.50s/it]"
     ]
    },
    {
     "name": "stdout",
     "output_type": "stream",
     "text": [
      "Saved sequence 2022-04-01T11:22:30 to 2022-04-01T11:43:30\n"
     ]
    },
    {
     "name": "stderr",
     "output_type": "stream",
     "text": [
      " 67%|██████▋   | 12/18 [27:43<18:52, 188.68s/it]"
     ]
    },
    {
     "name": "stdout",
     "output_type": "stream",
     "text": [
      "Saved sequence 2022-04-01T12:20:00 to 2022-04-01T12:51:00\n"
     ]
    },
    {
     "name": "stderr",
     "output_type": "stream",
     "text": [
      " 72%|███████▏  | 13/18 [29:32<13:42, 164.51s/it]"
     ]
    },
    {
     "name": "stdout",
     "output_type": "stream",
     "text": [
      "Saved sequence 2022-04-01T13:36:00 to 2022-04-01T13:52:30\n"
     ]
    },
    {
     "name": "stderr",
     "output_type": "stream",
     "text": [
      " 78%|███████▊  | 14/18 [30:16<08:32, 128.05s/it]"
     ]
    },
    {
     "name": "stdout",
     "output_type": "stream",
     "text": [
      "Saved sequence 2022-04-04T09:18:30 to 2022-04-04T09:23:30\n"
     ]
    },
    {
     "name": "stderr",
     "output_type": "stream",
     "text": [
      " 83%|████████▎ | 15/18 [35:25<09:07, 182.58s/it]"
     ]
    },
    {
     "name": "stdout",
     "output_type": "stream",
     "text": [
      "Saved sequence 2022-04-04T12:24:00 to 2022-04-04T13:01:00\n"
     ]
    },
    {
     "name": "stderr",
     "output_type": "stream",
     "text": [
      " 89%|████████▉ | 16/18 [38:15<05:57, 178.80s/it]"
     ]
    },
    {
     "name": "stdout",
     "output_type": "stream",
     "text": [
      "Saved sequence 2022-04-04T13:19:30 to 2022-04-04T13:40:00\n"
     ]
    },
    {
     "name": "stderr",
     "output_type": "stream",
     "text": [
      " 94%|█████████▍| 17/18 [41:33<03:04, 184.68s/it]"
     ]
    },
    {
     "name": "stdout",
     "output_type": "stream",
     "text": [
      "Saved sequence 2022-04-04T14:08:00 to 2022-04-04T14:30:00\n"
     ]
    },
    {
     "name": "stderr",
     "output_type": "stream",
     "text": [
      "100%|██████████| 18/18 [43:39<00:00, 145.51s/it]"
     ]
    },
    {
     "name": "stdout",
     "output_type": "stream",
     "text": [
      "Saved sequence 2022-04-08T09:22:00 to 2022-04-08T09:40:00\n"
     ]
    },
    {
     "name": "stderr",
     "output_type": "stream",
     "text": [
      "\n"
     ]
    }
   ],
   "source": [
    "from datetime import datetime, timedelta\n",
    "import numpy as np\n",
    "import os\n",
    "import xarray as xr\n",
    "from tqdm import tqdm\n",
    "\n",
    "from dask.distributed import Client, LocalCluster\n",
    "\n",
    "# Start a local cluster\n",
    "\n",
    "cluster = LocalCluster(\n",
    "    n_workers=20,\n",
    "    threads_per_worker=1,\n",
    "    memory_limit='4GB',\n",
    "    dashboard_address=8787,\n",
    ")\n",
    "\n",
    "client = Client(cluster)\n",
    "\n",
    "print(f'Visit me @ {cluster.dashboard_link}')\n",
    "\n",
    "filenames = os.listdir('../../data/predicted/v_0.5')\n",
    "\n",
    "# Extract timestamps and convert to datetime objects\n",
    "timestamps = [datetime.strptime(f.split('_')[1].split('.nc')[0], \"%Y-%m-%dT%H:%M:%S\") for f in filenames]\n",
    "\n",
    "# Sort the timestamps\n",
    "timestamps.sort()\n",
    "\n",
    "# Find consecutive sequences\n",
    "consecutive_sequences = []\n",
    "current_sequence = [timestamps[0]]\n",
    "\n",
    "treshold_delta = timedelta(seconds=10)\n",
    "consecutive_length = 20\n",
    "\n",
    "for i in range(1, len(timestamps)):\n",
    "    if timestamps[i] - timestamps[i - 1] <= treshold_delta:\n",
    "        current_sequence.append(timestamps[i])\n",
    "    else:\n",
    "        if len(current_sequence) >= consecutive_length:\n",
    "            consecutive_sequences.append(current_sequence)\n",
    "        current_sequence = [timestamps[i]]\n",
    "\n",
    "if len(current_sequence) >= 5:\n",
    "    consecutive_sequences.append(current_sequence)\n",
    "\n",
    "# Convert sequences back to filenames\n",
    "consecutive_filenames = []\n",
    "for sequence in consecutive_sequences:\n",
    "    filenames_sequence = [\n",
    "        f\"predicted_{dt.strftime('%Y-%m-%dT%H:%M:%S')}.nc\" for dt in sequence\n",
    "    ]\n",
    "    consecutive_filenames.append(filenames_sequence)\n",
    "\n",
    "# Output the results\n",
    "len(consecutive_filenames)\n",
    "\n",
    "for sequence in tqdm(consecutive_filenames):\n",
    "    sequence_start = sequence[0].split('_')[1].split('.nc')[0]\n",
    "    sequence_end = sequence[-1].split('_')[1].split('.nc')[0]    \n",
    "    #check if the sequence is already saved\n",
    "    filename = f\"../../data/predicted/pushbroom/v_0.2/{sequence_start}_{sequence_end}.nc\"\n",
    "    if os.path.exists(filename):\n",
    "        print(f\"Sequence {sequence_start} to {sequence_end} already saved\")\n",
    "        continue\n",
    "    else:\n",
    "        ds = xr.concat([xr.open_dataset(f\"../../data/predicted/v_0.5/{frame}\", chunks={'x' : -1, 'y' : -1}) for frame in sequence], dim='time')\n",
    "        ds.to_netcdf(filename, engine='h5netcdf')\n",
    "        print(f\"Saved sequence {sequence_start} to {sequence_end}\")\n"
   ]
  }
 ],
 "metadata": {
  "kernelspec": {
   "display_name": "mamba_josh",
   "language": "python",
   "name": "mamba_josh"
  },
  "language_info": {
   "codemirror_mode": {
    "name": "ipython",
    "version": 3
   },
   "file_extension": ".py",
   "mimetype": "text/x-python",
   "name": "python",
   "nbconvert_exporter": "python",
   "pygments_lexer": "ipython3",
   "version": "3.12.1"
  }
 },
 "nbformat": 4,
 "nbformat_minor": 2
}
